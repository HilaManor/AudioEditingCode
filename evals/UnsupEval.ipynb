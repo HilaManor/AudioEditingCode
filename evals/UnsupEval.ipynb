{
 "cells": [
  {
   "cell_type": "markdown",
   "metadata": {},
   "source": [
    "# Start"
   ]
  },
  {
   "cell_type": "code",
   "execution_count": 19,
   "metadata": {},
   "outputs": [],
   "source": [
    "import torch\n",
    "import numpy as np\n",
    "import fadtk\n",
    "from fadtk.model_loader import CLAPLaionModel, CLAPLaionModel\n",
    "from fadtk import Path\n",
    "import torch\n",
    "from tqdm import tqdm\n",
    "import numpy as np\n",
    "import logging\n",
    "from evals.fadtk_utils import cache_embedding_files, split_to_overlapping_windows\n",
    "\n",
    "from matplotlib import pyplot as plt\n",
    "plt.style.use('tableau-colorblind10')\n",
    "plt.rcParams.update({\n",
    "    \"text.usetex\": True,\n",
    "    \"font.family\": \"serif\",\n",
    "    # \"font.family\": \"cmu-serif\",\n",
    "    \"mathtext.fontset\": \"cm\",\n",
    "    \"font.size\": 20\n",
    "})\n"
   ]
  },
  {
   "cell_type": "markdown",
   "metadata": {},
   "source": [
    "# Calc"
   ]
  },
  {
   "cell_type": "code",
   "execution_count": 6,
   "metadata": {},
   "outputs": [],
   "source": [
    "ours_dir = \"code/results/MusicDeltaDB_unsup/audioldm2-music\"\n",
    "split_ours_dir = \"evals/ours\"\n",
    "sdedit_dir = \"code/results/MusicDeltaDB_unsup_sdedit/audioldm2-music\"\n",
    "split_sdedit_dir = \"evals/sdedit\"\n",
    "inputs_orig = \"inputs/MusicDelta/\"\n",
    "split_inputs_orig = \"evals/inputs\"\n",
    "\n",
    "# split all generations matching a pattern to almost-non-overlapping 10 second long segments\n",
    "ours_ptrns = [\n",
    "    '**/pcs*150--1*spts115*avgeval_a*2.0.wav',\n",
    "    '**/pcs*150--1*spts95*avgeval_a*2.0.wav',\n",
    "    '**/pcs*150--1*spts80*avgeval_a*2.0.wav',\n",
    "    '**/pcs*150--1*spts65*avgeval_a*2.0.wav',\n",
    "    '**/pcs*200--1*spts115*avgeval_a*2.0.wav',\n",
    "    '**/pcs*200--1*spts95*avgeval_a*2.0.wav',\n",
    "    '**/pcs*200--1*spts80*avgeval_a*2.0.wav',\n",
    "    '**/pcs*200--1*spts65*avgeval_a*2.0.wav',\n",
    "]\n",
    "sdedits_ptrns = [\n",
    "    '**/s*170*cfg3.0.wav',\n",
    "    '**/s*160*cfg3.0.wav',\n",
    "    '**/s*150*cfg3.0.wav',\n",
    "    '**/s*130*cfg3.0.wav',\n",
    "    '**/s*115*cfg3.0.wav', \n",
    "    '**/s*100*cfg3.0.wav',\n",
    "    '**/s*85*cfg3.0.wav',\n",
    "]\n",
    "orig_ptrns = ['*.wav']\n",
    "\n",
    "device = torch.device(\"cuda:0\" if torch.cuda.is_available() else \"cpu\")\n",
    "model = CLAPLaionModel('music')\n",
    "workers = 1\n"
   ]
  },
  {
   "cell_type": "markdown",
   "metadata": {},
   "source": [
    "## Split WAV files to overlapping windows"
   ]
  },
  {
   "cell_type": "code",
   "execution_count": null,
   "metadata": {},
   "outputs": [],
   "source": [
    "split_to_overlapping_windows(ours_ptrns, ours_dir, split_ours_dir)\n",
    "split_to_overlapping_windows(sdedits_ptrns, sdedit_dir, split_sdedit_dir)\n",
    "split_to_overlapping_windows(orig_ptrns, inputs_orig, split_inputs_orig, save_dir_structure=False)"
   ]
  },
  {
   "cell_type": "markdown",
   "metadata": {},
   "source": [
    "## Calc Embedding files"
   ]
  },
  {
   "cell_type": "code",
   "execution_count": null,
   "metadata": {},
   "outputs": [],
   "source": [
    "# 1. Calculate embedding files for each dataset\n",
    "for eval_dir, pattern in [\n",
    "    (split_ours_dir, '**/pc*.wav'), \n",
    "    (split_sdedit_dir, '**/s*cfg3.0*.wav'), \n",
    "    (split_inputs_orig, '*.wav')]:\n",
    "    print(eval_dir)\n",
    "    cache_embedding_files(eval_dir, model, workers=workers, pattern=pattern)\n",
    "# 2. Calculate FAD\n",
    "logging.disable(logging.CRITICAL)"
   ]
  },
  {
   "cell_type": "markdown",
   "metadata": {},
   "source": [
    "## Calc FADs to MusicDelta"
   ]
  },
  {
   "cell_type": "code",
   "execution_count": null,
   "metadata": {},
   "outputs": [],
   "source": [
    "out_long = []\n",
    "\n",
    "np.random.seed(0)\n",
    "torch.manual_seed(0)\n",
    "\n",
    "fad = fadtk.FrechetAudioDistance(model, audio_load_worker=workers, load_model=False)\n",
    "for ptrn in tqdm(ours_ptrns, desc='ours'):\n",
    "    if list(Path(split_ours_dir).glob(ptrn)) == []:\n",
    "        continue\n",
    "    ours_score_ninf = fad.score(split_inputs_orig, list(Path(split_ours_dir).glob(ptrn)))\n",
    "    out_long.append({'type': 'ours', 'ptrn': ptrn, 'ours_score_ninf': ours_score_ninf})\n",
    "\n",
    "for ptrn in tqdm(sdedits_ptrns, desc='sdedit'):\n",
    "    if list(Path(split_sdedit_dir).glob(ptrn)) == []:\n",
    "        continue\n",
    "    sdedit_score_ninf = fad.score(split_inputs_orig, list(Path(split_sdedit_dir).glob(ptrn)))\n",
    "    out_long.append({'type': 'sdedit', 'ptrn': ptrn, 'sdedit_score_ninf': sdedit_score_ninf})\n",
    "torch.save(out_long, 'evals/out_long.pt')"
   ]
  },
  {
   "cell_type": "markdown",
   "metadata": {},
   "source": [
    "## Calc FADs to FMA-pop"
   ]
  },
  {
   "cell_type": "code",
   "execution_count": null,
   "metadata": {},
   "outputs": [],
   "source": [
    "out_long = []\n",
    "\n",
    "np.random.seed(0)\n",
    "torch.manual_seed(0)\n",
    "\n",
    "fad = fadtk.FrechetAudioDistance(model, audio_load_worker=workers, load_model=False)\n",
    "for ptrn in tqdm(ours_ptrns, desc='ours'):\n",
    "    ptrn = ptrn[:-4] + '*' + ptrn[-4:]\n",
    "    if list(Path(split_ours_dir).glob(ptrn)) == []:\n",
    "        continue\n",
    "    ours_score_ninf = fad.score('fma_pop', list(Path(split_ours_dir).glob(ptrn)))\n",
    "    out_long.append({'type': 'ours', 'ptrn': ptrn, 'ours_score_ninf': ours_score_ninf})\n",
    "\n",
    "for ptrn in tqdm(sdedits_ptrns, desc='sdedit'):\n",
    "    ptrn = ptrn[:-4] + '*' + ptrn[-4:]\n",
    "    if list(Path(split_sdedit_dir).glob(ptrn)) == []:\n",
    "        continue\n",
    "    sdedit_score_ninf = fad.score('fma_pop', list(Path(split_sdedit_dir).glob(ptrn)))\n",
    "    out_long.append({'type': 'sdedit', 'ptrn': ptrn, 'sdedit_score_ninf': sdedit_score_ninf})\n",
    "torch.save(out_long, 'evals/out_long_fmapop.pt')"
   ]
  },
  {
   "cell_type": "code",
   "execution_count": 17,
   "metadata": {},
   "outputs": [
    {
     "name": "stderr",
     "output_type": "stream",
     "text": [
      "Calculating statistics: 100%|██████████| 461/461 [00:09<00:00, 50.64it/s]\n",
      "> Embeddings statistics calculated.\n",
      "Loading embedding statistics from /home/hila/MusicInversion/python39venv/lib/python3.9/site-packages/fadtk/stats/fma_pop.npz...\n",
      "Loading embedding files from list...\n"
     ]
    },
    {
     "name": "stdout",
     "output_type": "stream",
     "text": [
      "/home/hila/MusicInversion/python39venv/lib/python3.9/site-packages/fadtk/stats/fma_pop.npz\n"
     ]
    },
    {
     "name": "stderr",
     "output_type": "stream",
     "text": [
      "Calculating statistics: 100%|██████████| 461/461 [00:09<00:00, 51.13it/s]\n",
      "> Embeddings statistics calculated.\n",
      "sdedit: 100%|██████████| 7/7 [02:22<00:00, 20.31s/it]\n"
     ]
    }
   ],
   "source": [
    "fad_orig = []\n",
    "fad_fmapop = []\n",
    "\n",
    "np.random.seed(0)\n",
    "torch.manual_seed(0)\n",
    "\n",
    "fad = fadtk.FrechetAudioDistance(model, audio_load_worker=workers, load_model=False)\n",
    "for ptrn in tqdm(ours_ptrns, desc='ours'):\n",
    "    ptrn = ptrn[:-4] + '*' + ptrn[-4:]\n",
    "    if list(Path(split_ours_dir).glob(ptrn)) == []:\n",
    "        continue\n",
    "    ours_score_ninf = fad.score(split_inputs_orig, list(Path(split_ours_dir).glob(ptrn)))\n",
    "    fad_orig.append({'type': 'ours', 'ptrn': ptrn, 'ours_score_ninf': ours_score_ninf})\n",
    "    ours_score_ninf = fad.score('fma_pop', list(Path(split_ours_dir).glob(ptrn)))\n",
    "    fad_fmapop.append({'type': 'ours', 'ptrn': ptrn, 'ours_score_ninf': ours_score_ninf})\n",
    "\n",
    "for ptrn in tqdm(sdedits_ptrns, desc='sdedit'):\n",
    "    ptrn = ptrn[:-4] + '*' + ptrn[-4:]\n",
    "    if list(Path(split_sdedit_dir).glob(ptrn)) == []:\n",
    "        continue\n",
    "    sdedit_score_ninf = fad.score(split_inputs_orig, list(Path(split_sdedit_dir).glob(ptrn)))\n",
    "    fad_orig.append({'type': 'sdedit', 'ptrn': ptrn, 'sdedit_score_ninf': sdedit_score_ninf})\n",
    "    sdedit_score_ninf = fad.score('fma_pop', list(Path(split_sdedit_dir).glob(ptrn)))\n",
    "    fad_fmapop.append({'type': 'sdedit', 'ptrn': ptrn, 'sdedit_score_ninf': sdedit_score_ninf})"
   ]
  },
  {
   "cell_type": "markdown",
   "metadata": {},
   "source": [
    "# Load"
   ]
  },
  {
   "cell_type": "code",
   "execution_count": 2,
   "metadata": {},
   "outputs": [],
   "source": [
    "\n",
    "fad_fmapop = torch.load('evals/out_long_fmapop.pt')\n",
    "fad_orig = torch.load('evals/out_long.pt')\n"
   ]
  },
  {
   "cell_type": "markdown",
   "metadata": {},
   "source": [
    "# Figure"
   ]
  },
  {
   "cell_type": "code",
   "execution_count": 20,
   "metadata": {},
   "outputs": [
    {
     "data": {
      "image/png": "[encoded data removed]",
      "text/plain": [
       "<Figure size 800x500 with 1 Axes>"
      ]
     },
     "metadata": {},
     "output_type": "display_data"
    }
   ],
   "source": [
    "fig1 = plt.figure(figsize=(8,5))\n",
    "shift_y = -0.007\n",
    "shift_x = 0.004\n",
    "ax = fig1.add_subplot(1, 1, 1)\n",
    "\n",
    "sdedit_skips = sorted([170, 150, 130, 115, 100, 85])\n",
    "    \n",
    "sdedit_fad_fmapop = [[f for f in fad_fmapop if f['type'] == 'sdedit' and str(skip) in f['ptrn']][0]['sdedit_score_ninf'] for skip in sdedit_skips]    \n",
    "sdedit_fad_orig = [[f for f in fad_orig if f['type'] == 'sdedit' and str(skip) in f['ptrn']][0]['sdedit_score_ninf'] for skip in sdedit_skips]    \n",
    "\n",
    "sdedit_skips = 200 - np.array(sdedit_skips)\n",
    "\n",
    "ax.plot(sdedit_fad_orig, sdedit_fad_fmapop, label='SDEdit', marker='o', markersize=10, linewidth=2)\n",
    "for i, s in enumerate(sdedit_skips):\n",
    "    if i == 0:\n",
    "        ax.text(sdedit_fad_orig[i] - 0.014, sdedit_fad_fmapop[i] -0.0011, f'{s}', color='tab:blue')\n",
    "    elif i == 1:\n",
    "        ax.text(sdedit_fad_orig[i] + 0.003, sdedit_fad_fmapop[i] - 0.007, f'{s}', color='tab:blue')\n",
    "    else:\n",
    "        ax.text(sdedit_fad_orig[i] + shift_x, sdedit_fad_fmapop[i] + shift_y, f'{s}', color='tab:blue')\n",
    "\n",
    "cur_spts = [65,80,95,115]\n",
    "spts_200_fad_fmapop = []\n",
    "spts_200_fad_orig = []\n",
    "spts_150_fad_fmapop = []\n",
    "spts_150_fad_orig = []\n",
    "for jj, (spt, color) in enumerate(zip(cur_spts, ['lightcoral', 'indianred', 'firebrick', 'maroon', 'black'])):\n",
    "    cur_drifts = [(200,-1), (150,-1)] \n",
    "\n",
    "    ours_fad_fmapop = [[f for f in fad_fmapop\n",
    "                    if f['type'] == 'ours' and f'spts{spt}' in f['ptrn']\n",
    "                    and f['ptrn'].startswith('**/pcs') == True\n",
    "                    and (str(drift_start)+ '--1') in f['ptrn']\n",
    "                ][0]['ours_score_ninf'] for drift_start in [200,150]]\n",
    "    ours_fad_orig = [[f for f in fad_orig\n",
    "                    if f['type'] == 'ours' and f'spts{spt}' in f['ptrn']\n",
    "                    and f['ptrn'].startswith('**/pcs') == True\n",
    "                    and (str(drift_start)+ '--1') in f['ptrn']\n",
    "                    ][0]['ours_score_ninf'] for drift_start in [200,150]]\n",
    "    \n",
    "    spts_200_fad_fmapop.append(ours_fad_fmapop[0])\n",
    "    spts_200_fad_orig.append(ours_fad_orig[0])\n",
    "    spts_150_fad_fmapop.append(ours_fad_fmapop[1])\n",
    "    spts_150_fad_orig.append(ours_fad_orig[1])\n",
    "    \n",
    "ax.plot(spts_150_fad_orig, spts_150_fad_fmapop, label='Ours, $T_\\\\textnormal{start}=150$', marker='.', linewidth=2, markersize=10)\n",
    "for i, spt in enumerate(cur_spts):\n",
    "    if i == 1:\n",
    "        ax.text(spts_150_fad_orig[i] + 0.003, spts_150_fad_fmapop[i] + 0.0015, f'{spt}', color='tab:orange')\n",
    "    elif i == len(cur_spts) - 1:\n",
    "        ax.text(spts_150_fad_orig[i] - 0.01, spts_150_fad_fmapop[i] - 0.007, f'{spt}', color='tab:orange')\n",
    "    else:\n",
    "        ax.text(spts_150_fad_orig[i] - 0.01, spts_150_fad_fmapop[i] - 0.005, f'{spt}', color='tab:orange')\n",
    "\n",
    "ax.plot(spts_200_fad_orig, spts_200_fad_fmapop, label='Ours, $T_\\\\textnormal{start}=200$', marker='.', color='#595959', markersize=10, linewidth=2)\n",
    "for i, spt in enumerate(cur_spts):\n",
    "    if i == 1:                \n",
    "        ax.text(spts_200_fad_orig[i] + 0.004, spts_200_fad_fmapop[i] + 0.001, f'{spt}', color='#595959')\n",
    "    elif i == 0:\n",
    "        ax.text(spts_200_fad_orig[i] + 0.004, spts_200_fad_fmapop[i] - 0.003, f'{spt}', color='#595959')\n",
    "    elif i == 2:\n",
    "        ax.text(spts_200_fad_orig[i] + 0.002, spts_200_fad_fmapop[i] - 0.008, f'{spt}', color='#595959')\n",
    "    else:\n",
    "        ax.text(spts_200_fad_orig[i] + 0.004, spts_200_fad_fmapop[i] + 0.001, f'{spt}', color='#595959')\n",
    "\n",
    "ax.set_xlabel('fad vs FMA score')\n",
    "ax.set_xlabel('Editing Strength (FAD to source signals)')\n",
    "h = ax.set_ylabel('Quality (FAD to generic music signals)')\n",
    "x,y = h.get_position()\n",
    "h.set_position([x, y-0.08])\n",
    "ax.legend()\n",
    "\n",
    "fig1.tight_layout()\n",
    "# plt.savefig('figures/Unsup_FAD_FAD.pdf', pad_inches=0.015, bbox_inches='tight')\n",
    "plt.show()\n",
    "\n"
   ]
  }
 ],
 "metadata": {
  "kernelspec": {
   "display_name": "Python 3 (ipykernel)",
   "language": "python",
   "name": "python3"
  },
  "language_info": {
   "codemirror_mode": {
    "name": "ipython",
    "version": 3
   },
   "file_extension": ".py",
   "mimetype": "text/x-python",
   "name": "python",
   "nbconvert_exporter": "python",
   "pygments_lexer": "ipython3",
   "version": "3.9.5"
  }
 },
 "nbformat": 4,
 "nbformat_minor": 2
}
